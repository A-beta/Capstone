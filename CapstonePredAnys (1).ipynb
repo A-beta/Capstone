{
  "nbformat": 4,
  "nbformat_minor": 0,
  "metadata": {
    "colab": {
      "provenance": []
    },
    "kernelspec": {
      "name": "python3",
      "display_name": "Python 3"
    },
    "language_info": {
      "name": "python"
    },
    "accelerator": "GPU",
    "gpuClass": "standard"
  },
  "cells": [
    {
      "cell_type": "code",
      "execution_count": null,
      "metadata": {
        "colab": {
          "base_uri": "https://localhost:8080/"
        },
        "id": "eWAGWrFoIR-y",
        "outputId": "3aad909f-1f28-4cdc-d576-af7766f58864"
      },
      "outputs": [
        {
          "output_type": "stream",
          "name": "stdout",
          "text": [
            "Drive already mounted at /content/drive; to attempt to forcibly remount, call drive.mount(\"/content/drive\", force_remount=True).\n"
          ]
        }
      ],
      "source": [
        "from google.colab import drive\n",
        "drive.mount('/content/drive')"
      ]
    },
    {
      "cell_type": "code",
      "source": [
        "# Import libraries for Predictive Analytics step\n",
        "import os\n",
        "import numpy as np \n",
        "import pandas as pd\n",
        "import matplotlib.pyplot as plt\n",
        "import matplotlib.image as implt\n",
        "import tensorflow as tf\n",
        "from tensorflow.keras.preprocessing import image_dataset_from_directory"
      ],
      "metadata": {
        "id": "wXsdKe-j015d"
      },
      "execution_count": null,
      "outputs": []
    },
    {
      "cell_type": "code",
      "source": [
        "def plot_loss_curve(history):\n",
        "    loss = history.history['loss']\n",
        "    val_loss = history.history['val_loss']\n",
        "    accuracy = history.history['accuracy']\n",
        "    val_accuracy = history.history['val_accuracy']\n",
        "    \n",
        "    epochs = range(len(loss))\n",
        "    # Plot loss\n",
        "    plt.plot(epochs, loss, label='training_loss')\n",
        "    plt.plot(epochs, val_loss, label='val_loss')\n",
        "    plt.title('Loss')\n",
        "    plt.xlabel('Epochs')\n",
        "    plt.legend()\n",
        "    \n",
        "    # Plot accuracy\n",
        "    plt.figure()\n",
        "    plt.plot(epochs, accuracy, label='training_accuracy')\n",
        "    plt.plot(epochs, val_accuracy, label='val_accuracy')\n",
        "    plt.title('Accuracy')\n",
        "    plt.xlabel('Epochs')\n",
        "    plt.legend();"
      ],
      "metadata": {
        "id": "isGhGK6H1Etv"
      },
      "execution_count": null,
      "outputs": []
    },
    {
      "cell_type": "code",
      "source": [
        "# Create a variable for store our data folder's path\n",
        "ROOT = '/content/drive/MyDrive/10 big cats of the wild kaggle dataset'"
      ],
      "metadata": {
        "id": "AEDMeMLe1RbN"
      },
      "execution_count": null,
      "outputs": []
    },
    {
      "cell_type": "code",
      "source": [
        "# Inspect our data folder\n",
        "for dir_name, folder_names, file_names in os.walk(ROOT):\n",
        "    print(f\"There is {len(folder_names)} folders and {len(file_names)} files in {dir_name}\")"
      ],
      "metadata": {
        "colab": {
          "base_uri": "https://localhost:8080/"
        },
        "id": "dkod7ppK1lXb",
        "outputId": "52eddde0-ac5f-4038-853a-c43c783c64ee"
      },
      "execution_count": null,
      "outputs": [
        {
          "output_type": "stream",
          "name": "stdout",
          "text": [
            "There is 3 folders and 4 files in /content/drive/MyDrive/10 big cats of the wild kaggle dataset\n",
            "There is 10 folders and 1 files in /content/drive/MyDrive/10 big cats of the wild kaggle dataset/test\n",
            "There is 0 folders and 5 files in /content/drive/MyDrive/10 big cats of the wild kaggle dataset/test/AFRICAN LEOPARD\n",
            "There is 0 folders and 5 files in /content/drive/MyDrive/10 big cats of the wild kaggle dataset/test/CHEETAH\n",
            "There is 0 folders and 5 files in /content/drive/MyDrive/10 big cats of the wild kaggle dataset/test/JAGUAR\n",
            "There is 0 folders and 5 files in /content/drive/MyDrive/10 big cats of the wild kaggle dataset/test/TIGER\n",
            "There is 0 folders and 5 files in /content/drive/MyDrive/10 big cats of the wild kaggle dataset/test/LIONS\n",
            "There is 0 folders and 5 files in /content/drive/MyDrive/10 big cats of the wild kaggle dataset/test/CLOUDED LEOPARD\n",
            "There is 0 folders and 5 files in /content/drive/MyDrive/10 big cats of the wild kaggle dataset/test/PUMA\n",
            "There is 0 folders and 5 files in /content/drive/MyDrive/10 big cats of the wild kaggle dataset/test/CARACAL\n",
            "There is 0 folders and 5 files in /content/drive/MyDrive/10 big cats of the wild kaggle dataset/test/SNOW LEOPARD\n",
            "There is 0 folders and 5 files in /content/drive/MyDrive/10 big cats of the wild kaggle dataset/test/OCELOT\n",
            "There is 10 folders and 1 files in /content/drive/MyDrive/10 big cats of the wild kaggle dataset/valid\n",
            "There is 0 folders and 5 files in /content/drive/MyDrive/10 big cats of the wild kaggle dataset/valid/CHEETAH\n",
            "There is 0 folders and 5 files in /content/drive/MyDrive/10 big cats of the wild kaggle dataset/valid/JAGUAR\n",
            "There is 0 folders and 5 files in /content/drive/MyDrive/10 big cats of the wild kaggle dataset/valid/CLOUDED LEOPARD\n",
            "There is 0 folders and 5 files in /content/drive/MyDrive/10 big cats of the wild kaggle dataset/valid/LIONS\n",
            "There is 0 folders and 5 files in /content/drive/MyDrive/10 big cats of the wild kaggle dataset/valid/TIGER\n",
            "There is 0 folders and 5 files in /content/drive/MyDrive/10 big cats of the wild kaggle dataset/valid/AFRICAN LEOPARD\n",
            "There is 0 folders and 5 files in /content/drive/MyDrive/10 big cats of the wild kaggle dataset/valid/PUMA\n",
            "There is 0 folders and 5 files in /content/drive/MyDrive/10 big cats of the wild kaggle dataset/valid/CARACAL\n",
            "There is 0 folders and 5 files in /content/drive/MyDrive/10 big cats of the wild kaggle dataset/valid/OCELOT\n",
            "There is 0 folders and 5 files in /content/drive/MyDrive/10 big cats of the wild kaggle dataset/valid/SNOW LEOPARD\n",
            "There is 10 folders and 1 files in /content/drive/MyDrive/10 big cats of the wild kaggle dataset/train\n",
            "There is 0 folders and 237 files in /content/drive/MyDrive/10 big cats of the wild kaggle dataset/train/TIGER\n",
            "There is 0 folders and 236 files in /content/drive/MyDrive/10 big cats of the wild kaggle dataset/train/CARACAL\n",
            "There is 0 folders and 236 files in /content/drive/MyDrive/10 big cats of the wild kaggle dataset/train/PUMA\n",
            "There is 0 folders and 238 files in /content/drive/MyDrive/10 big cats of the wild kaggle dataset/train/JAGUAR\n",
            "There is 0 folders and 235 files in /content/drive/MyDrive/10 big cats of the wild kaggle dataset/train/CHEETAH\n",
            "There is 0 folders and 236 files in /content/drive/MyDrive/10 big cats of the wild kaggle dataset/train/AFRICAN LEOPARD\n",
            "There is 0 folders and 229 files in /content/drive/MyDrive/10 big cats of the wild kaggle dataset/train/CLOUDED LEOPARD\n",
            "There is 0 folders and 228 files in /content/drive/MyDrive/10 big cats of the wild kaggle dataset/train/LIONS\n",
            "There is 0 folders and 231 files in /content/drive/MyDrive/10 big cats of the wild kaggle dataset/train/SNOW LEOPARD\n",
            "There is 0 folders and 233 files in /content/drive/MyDrive/10 big cats of the wild kaggle dataset/train/OCELOT\n"
          ]
        }
      ]
    },
    {
      "cell_type": "code",
      "source": [
        "#Create train, validation and test directory\n",
        "train_dir = ROOT + '/train/'\n",
        "valid_dir = ROOT + '/valid/'\n",
        "test_dir = ROOT + '/test/'"
      ],
      "metadata": {
        "id": "1uhAJGcs1xUo"
      },
      "execution_count": null,
      "outputs": []
    },
    {
      "cell_type": "code",
      "source": [
        "# Create train, validation and test datasets\n",
        "tf.random.set_seed(42)\n",
        "IMAGE_SHAPE = (224, 224)\n",
        "BATCH_SIZE = 32\n",
        "print(\"Create train dataset...\")\n",
        "train_data = image_dataset_from_directory(directory=train_dir,\n",
        "                                         image_size=IMAGE_SHAPE,\n",
        "                                         batch_size=BATCH_SIZE,\n",
        "                                         label_mode='categorical')\n",
        "print(\"Create validation dataset...\")\n",
        "valid_data = image_dataset_from_directory(directory=valid_dir,\n",
        "                                         image_size=IMAGE_SHAPE,\n",
        "                                         batch_size=BATCH_SIZE,\n",
        "                                         label_mode='categorical')\n",
        "print(\"Create test dataset...\")\n",
        "test_data = image_dataset_from_directory(directory=test_dir,\n",
        "                                         image_size=IMAGE_SHAPE,\n",
        "                                         batch_size=BATCH_SIZE,\n",
        "                                         label_mode='categorical')"
      ],
      "metadata": {
        "colab": {
          "base_uri": "https://localhost:8080/"
        },
        "id": "w7NdEzwK18Z3",
        "outputId": "f1c80d5d-3935-4a85-ba7c-551980063c17"
      },
      "execution_count": null,
      "outputs": [
        {
          "output_type": "stream",
          "name": "stdout",
          "text": [
            "Create train dataset...\n",
            "Found 2339 files belonging to 10 classes.\n",
            "Create validation dataset...\n",
            "Found 50 files belonging to 10 classes.\n",
            "Create test dataset...\n",
            "Found 50 files belonging to 10 classes.\n"
          ]
        }
      ]
    },
    {
      "cell_type": "code",
      "source": [
        "# Inspect our train dataset\n",
        "train_data"
      ],
      "metadata": {
        "colab": {
          "base_uri": "https://localhost:8080/"
        },
        "id": "dOwBddJ72GNG",
        "outputId": "5a15c3c3-b1c5-40e5-9e82-913d410753d6"
      },
      "execution_count": null,
      "outputs": [
        {
          "output_type": "execute_result",
          "data": {
            "text/plain": [
              "<_BatchDataset element_spec=(TensorSpec(shape=(None, 224, 224, 3), dtype=tf.float32, name=None), TensorSpec(shape=(None, 10), dtype=tf.float32, name=None))>"
            ]
          },
          "metadata": {},
          "execution_count": 8
        }
      ]
    },
    {
      "cell_type": "code",
      "source": [
        "# Inspect our validation dataset\n",
        "valid_data"
      ],
      "metadata": {
        "colab": {
          "base_uri": "https://localhost:8080/"
        },
        "id": "jiQs8SVp2MC1",
        "outputId": "e9acce33-9059-473e-995a-2a4924a64bcb"
      },
      "execution_count": null,
      "outputs": [
        {
          "output_type": "execute_result",
          "data": {
            "text/plain": [
              "<_BatchDataset element_spec=(TensorSpec(shape=(None, 224, 224, 3), dtype=tf.float32, name=None), TensorSpec(shape=(None, 10), dtype=tf.float32, name=None))>"
            ]
          },
          "metadata": {},
          "execution_count": 9
        }
      ]
    },
    {
      "cell_type": "code",
      "source": [
        "# Inspect our labels\n",
        "train_data.class_names"
      ],
      "metadata": {
        "colab": {
          "base_uri": "https://localhost:8080/"
        },
        "id": "iwGFUbiF2zQe",
        "outputId": "baff3bce-ff5d-41ef-c6e9-bc15eff40ffa"
      },
      "execution_count": null,
      "outputs": [
        {
          "output_type": "execute_result",
          "data": {
            "text/plain": [
              "['AFRICAN LEOPARD',\n",
              " 'CARACAL',\n",
              " 'CHEETAH',\n",
              " 'CLOUDED LEOPARD',\n",
              " 'JAGUAR',\n",
              " 'LIONS',\n",
              " 'OCELOT',\n",
              " 'PUMA',\n",
              " 'SNOW LEOPARD',\n",
              " 'TIGER']"
            ]
          },
          "metadata": {},
          "execution_count": 10
        }
      ]
    },
    {
      "cell_type": "code",
      "source": [
        "# Get a single batch for example\n",
        "for image, label in train_data.take(1):\n",
        "    print(image, label)"
      ],
      "metadata": {
        "colab": {
          "base_uri": "https://localhost:8080/"
        },
        "id": "cy008WCD27Bn",
        "outputId": "638a667e-764f-413d-a497-b0b9dd1e29df"
      },
      "execution_count": null,
      "outputs": [
        {
          "output_type": "stream",
          "name": "stdout",
          "text": [
            "tf.Tensor(\n",
            "[[[[104. 106. 105.]\n",
            "   [107. 109. 108.]\n",
            "   [111. 111. 111.]\n",
            "   ...\n",
            "   [ 99.  99.  97.]\n",
            "   [ 98.  98.  98.]\n",
            "   [102. 102. 102.]]\n",
            "\n",
            "  [[105. 107. 106.]\n",
            "   [111. 113. 112.]\n",
            "   [113. 113. 113.]\n",
            "   ...\n",
            "   [111. 111. 109.]\n",
            "   [109. 109. 109.]\n",
            "   [109. 109. 109.]]\n",
            "\n",
            "  [[110. 112. 111.]\n",
            "   [114. 116. 115.]\n",
            "   [113. 115. 114.]\n",
            "   ...\n",
            "   [123. 123. 121.]\n",
            "   [119. 121. 120.]\n",
            "   [114. 116. 115.]]\n",
            "\n",
            "  ...\n",
            "\n",
            "  [[ 73.  72.  51.]\n",
            "   [ 71.  70.  49.]\n",
            "   [ 79.  78.  58.]\n",
            "   ...\n",
            "   [136. 128. 126.]\n",
            "   [149. 140. 135.]\n",
            "   [150. 139. 133.]]\n",
            "\n",
            "  [[138. 141. 124.]\n",
            "   [137. 140. 123.]\n",
            "   [124. 126. 112.]\n",
            "   ...\n",
            "   [143. 138. 132.]\n",
            "   [154. 145. 136.]\n",
            "   [168. 158. 148.]]\n",
            "\n",
            "  [[145. 149. 134.]\n",
            "   [158. 162. 147.]\n",
            "   [163. 167. 153.]\n",
            "   ...\n",
            "   [152. 147. 141.]\n",
            "   [169. 161. 150.]\n",
            "   [181. 171. 159.]]]\n",
            "\n",
            "\n",
            " [[[154. 194. 194.]\n",
            "   [155. 195. 195.]\n",
            "   [160. 196. 196.]\n",
            "   ...\n",
            "   [161. 168. 134.]\n",
            "   [160. 167. 133.]\n",
            "   [158. 165. 131.]]\n",
            "\n",
            "  [[155. 193. 194.]\n",
            "   [156. 195. 194.]\n",
            "   [159. 195. 195.]\n",
            "   ...\n",
            "   [159. 166. 132.]\n",
            "   [157. 164. 130.]\n",
            "   [156. 163. 129.]]\n",
            "\n",
            "  [[158. 194. 194.]\n",
            "   [159. 193. 192.]\n",
            "   [159. 193. 192.]\n",
            "   ...\n",
            "   [155. 163. 126.]\n",
            "   [154. 162. 125.]\n",
            "   [153. 161. 124.]]\n",
            "\n",
            "  ...\n",
            "\n",
            "  [[116. 124.  51.]\n",
            "   [115. 125.  52.]\n",
            "   [117. 127.  54.]\n",
            "   ...\n",
            "   [ 83. 103.  34.]\n",
            "   [ 81. 102.  33.]\n",
            "   [ 82. 103.  34.]]\n",
            "\n",
            "  [[117. 125.  50.]\n",
            "   [116. 127.  51.]\n",
            "   [117. 128.  52.]\n",
            "   ...\n",
            "   [ 81. 101.  32.]\n",
            "   [ 79.  99.  30.]\n",
            "   [ 79.  99.  30.]]\n",
            "\n",
            "  [[117. 125.  50.]\n",
            "   [116. 127.  51.]\n",
            "   [118. 129.  53.]\n",
            "   ...\n",
            "   [ 79.  99.  30.]\n",
            "   [ 77.  97.  28.]\n",
            "   [ 77.  97.  28.]]]\n",
            "\n",
            "\n",
            " [[[247. 244. 237.]\n",
            "   [240. 237. 230.]\n",
            "   [237. 234. 227.]\n",
            "   ...\n",
            "   [213. 222. 229.]\n",
            "   [208. 217. 222.]\n",
            "   [205. 214. 219.]]\n",
            "\n",
            "  [[245. 242. 235.]\n",
            "   [241. 238. 231.]\n",
            "   [239. 236. 229.]\n",
            "   ...\n",
            "   [216. 225. 232.]\n",
            "   [212. 221. 228.]\n",
            "   [209. 218. 223.]]\n",
            "\n",
            "  [[243. 243. 233.]\n",
            "   [239. 239. 229.]\n",
            "   [237. 237. 229.]\n",
            "   ...\n",
            "   [220. 229. 236.]\n",
            "   [216. 227. 233.]\n",
            "   [213. 224. 230.]]\n",
            "\n",
            "  ...\n",
            "\n",
            "  [[225. 222. 215.]\n",
            "   [224. 221. 214.]\n",
            "   [225. 218. 212.]\n",
            "   ...\n",
            "   [ 71.  78.  84.]\n",
            "   [ 61.  68.  74.]\n",
            "   [ 39.  46.  52.]]\n",
            "\n",
            "  [[225. 222. 213.]\n",
            "   [223. 220. 211.]\n",
            "   [224. 217. 209.]\n",
            "   ...\n",
            "   [ 54.  61.  67.]\n",
            "   [ 41.  48.  54.]\n",
            "   [ 23.  30.  36.]]\n",
            "\n",
            "  [[225. 222. 213.]\n",
            "   [224. 221. 212.]\n",
            "   [224. 217. 209.]\n",
            "   ...\n",
            "   [ 16.  23.  29.]\n",
            "   [ 18.  25.  31.]\n",
            "   [ 11.  18.  24.]]]\n",
            "\n",
            "\n",
            " ...\n",
            "\n",
            "\n",
            " [[[255. 255. 255.]\n",
            "   [255. 255. 255.]\n",
            "   [255. 255. 255.]\n",
            "   ...\n",
            "   [255. 255. 255.]\n",
            "   [255. 255. 255.]\n",
            "   [255. 255. 255.]]\n",
            "\n",
            "  [[255. 255. 255.]\n",
            "   [255. 255. 255.]\n",
            "   [255. 255. 255.]\n",
            "   ...\n",
            "   [255. 255. 255.]\n",
            "   [255. 255. 255.]\n",
            "   [255. 255. 255.]]\n",
            "\n",
            "  [[255. 255. 255.]\n",
            "   [255. 255. 255.]\n",
            "   [255. 255. 255.]\n",
            "   ...\n",
            "   [255. 255. 255.]\n",
            "   [255. 255. 255.]\n",
            "   [255. 255. 255.]]\n",
            "\n",
            "  ...\n",
            "\n",
            "  [[254. 254. 254.]\n",
            "   [254. 254. 254.]\n",
            "   [254. 254. 254.]\n",
            "   ...\n",
            "   [120. 103.  75.]\n",
            "   [117. 100.  72.]\n",
            "   [116.  99.  71.]]\n",
            "\n",
            "  [[253. 255. 254.]\n",
            "   [253. 255. 254.]\n",
            "   [254. 254. 254.]\n",
            "   ...\n",
            "   [115.  98.  70.]\n",
            "   [113.  96.  68.]\n",
            "   [112.  95.  67.]]\n",
            "\n",
            "  [[253. 255. 254.]\n",
            "   [253. 255. 254.]\n",
            "   [254. 254. 254.]\n",
            "   ...\n",
            "   [112.  95.  67.]\n",
            "   [111.  94.  66.]\n",
            "   [110.  93.  65.]]]\n",
            "\n",
            "\n",
            " [[[ 41.  43.  21.]\n",
            "   [ 42.  44.  22.]\n",
            "   [ 42.  44.  22.]\n",
            "   ...\n",
            "   [ 52.  43.  36.]\n",
            "   [ 40.  31.  26.]\n",
            "   [ 39.  32.  26.]]\n",
            "\n",
            "  [[ 40.  42.  20.]\n",
            "   [ 42.  44.  22.]\n",
            "   [ 42.  44.  22.]\n",
            "   ...\n",
            "   [ 48.  39.  32.]\n",
            "   [ 41.  32.  27.]\n",
            "   [ 38.  31.  25.]]\n",
            "\n",
            "  [[ 41.  43.  22.]\n",
            "   [ 41.  43.  22.]\n",
            "   [ 42.  44.  22.]\n",
            "   ...\n",
            "   [ 40.  31.  24.]\n",
            "   [ 33.  24.  19.]\n",
            "   [ 37.  30.  24.]]\n",
            "\n",
            "  ...\n",
            "\n",
            "  [[131. 113.  77.]\n",
            "   [137. 121.  85.]\n",
            "   [139. 126.  91.]\n",
            "   ...\n",
            "   [ 48.  47.  27.]\n",
            "   [ 29.  34.  14.]\n",
            "   [ 29.  37.  14.]]\n",
            "\n",
            "  [[150. 134. 100.]\n",
            "   [123. 108.  75.]\n",
            "   [ 91.  80.  48.]\n",
            "   ...\n",
            "   [ 66.  65.  44.]\n",
            "   [ 62.  68.  42.]\n",
            "   [ 51.  62.  32.]]\n",
            "\n",
            "  [[148. 132.  99.]\n",
            "   [124. 109.  78.]\n",
            "   [ 63.  54.  23.]\n",
            "   ...\n",
            "   [ 70.  70.  46.]\n",
            "   [ 83.  89.  61.]\n",
            "   [ 65.  76.  44.]]]\n",
            "\n",
            "\n",
            " [[[ 24.  26.  12.]\n",
            "   [ 17.  19.   5.]\n",
            "   [ 10.  14.   0.]\n",
            "   ...\n",
            "   [ 89. 111.  26.]\n",
            "   [104. 122.  38.]\n",
            "   [106. 124.  40.]]\n",
            "\n",
            "  [[ 23.  25.  11.]\n",
            "   [ 15.  19.   2.]\n",
            "   [ 10.  14.   0.]\n",
            "   ...\n",
            "   [ 90. 112.  27.]\n",
            "   [104. 124.  39.]\n",
            "   [107. 125.  41.]]\n",
            "\n",
            "  [[ 19.  23.   6.]\n",
            "   [ 13.  17.   0.]\n",
            "   [  9.  13.   0.]\n",
            "   ...\n",
            "   [ 91. 114.  26.]\n",
            "   [104. 124.  37.]\n",
            "   [107. 127.  40.]]\n",
            "\n",
            "  ...\n",
            "\n",
            "  [[ 20.  17.  12.]\n",
            "   [  3.   0.   0.]\n",
            "   [ 21.  16.  12.]\n",
            "   ...\n",
            "   [ 93. 127.   6.]\n",
            "   [ 94. 126.   3.]\n",
            "   [ 93. 125.   2.]]\n",
            "\n",
            "  [[ 26.  21.  17.]\n",
            "   [  4.   0.   0.]\n",
            "   [ 32.  27.  24.]\n",
            "   ...\n",
            "   [ 91. 122.   2.]\n",
            "   [ 89. 121.   0.]\n",
            "   [ 88. 120.   0.]]\n",
            "\n",
            "  [[ 22.  17.  13.]\n",
            "   [  5.   0.   0.]\n",
            "   [ 40.  35.  32.]\n",
            "   ...\n",
            "   [ 87. 118.   0.]\n",
            "   [ 85. 117.   0.]\n",
            "   [ 84. 116.   0.]]]], shape=(32, 224, 224, 3), dtype=float32) tf.Tensor(\n",
            "[[0. 0. 0. 0. 0. 0. 0. 1. 0. 0.]\n",
            " [0. 0. 0. 0. 0. 0. 0. 0. 0. 1.]\n",
            " [0. 0. 0. 0. 0. 0. 1. 0. 0. 0.]\n",
            " [0. 0. 0. 0. 0. 0. 0. 0. 1. 0.]\n",
            " [0. 0. 0. 0. 0. 0. 0. 0. 0. 1.]\n",
            " [0. 0. 0. 0. 0. 0. 0. 0. 0. 1.]\n",
            " [0. 0. 0. 0. 1. 0. 0. 0. 0. 0.]\n",
            " [0. 0. 0. 0. 0. 0. 0. 0. 0. 1.]\n",
            " [0. 0. 1. 0. 0. 0. 0. 0. 0. 0.]\n",
            " [0. 0. 0. 0. 0. 1. 0. 0. 0. 0.]\n",
            " [1. 0. 0. 0. 0. 0. 0. 0. 0. 0.]\n",
            " [0. 1. 0. 0. 0. 0. 0. 0. 0. 0.]\n",
            " [0. 1. 0. 0. 0. 0. 0. 0. 0. 0.]\n",
            " [1. 0. 0. 0. 0. 0. 0. 0. 0. 0.]\n",
            " [0. 0. 1. 0. 0. 0. 0. 0. 0. 0.]\n",
            " [0. 1. 0. 0. 0. 0. 0. 0. 0. 0.]\n",
            " [1. 0. 0. 0. 0. 0. 0. 0. 0. 0.]\n",
            " [0. 0. 0. 0. 0. 1. 0. 0. 0. 0.]\n",
            " [0. 1. 0. 0. 0. 0. 0. 0. 0. 0.]\n",
            " [0. 0. 0. 0. 0. 0. 0. 0. 0. 1.]\n",
            " [0. 0. 0. 0. 0. 0. 0. 0. 1. 0.]\n",
            " [0. 0. 0. 0. 0. 0. 1. 0. 0. 0.]\n",
            " [0. 0. 1. 0. 0. 0. 0. 0. 0. 0.]\n",
            " [0. 0. 0. 1. 0. 0. 0. 0. 0. 0.]\n",
            " [1. 0. 0. 0. 0. 0. 0. 0. 0. 0.]\n",
            " [0. 1. 0. 0. 0. 0. 0. 0. 0. 0.]\n",
            " [0. 1. 0. 0. 0. 0. 0. 0. 0. 0.]\n",
            " [0. 0. 1. 0. 0. 0. 0. 0. 0. 0.]\n",
            " [0. 1. 0. 0. 0. 0. 0. 0. 0. 0.]\n",
            " [0. 0. 0. 0. 1. 0. 0. 0. 0. 0.]\n",
            " [0. 0. 1. 0. 0. 0. 0. 0. 0. 0.]\n",
            " [0. 0. 0. 0. 0. 0. 0. 0. 0. 1.]], shape=(32, 10), dtype=float32)\n"
          ]
        }
      ]
    },
    {
      "cell_type": "code",
      "source": [
        "# Create a model with transfer learning, with EfficientNetB0 and feature extraction\n",
        "\n",
        "# Set the random seed\n",
        "tf.random.set_seed(42)\n",
        "# Create base model\n",
        "base_model = tf.keras.applications.EfficientNetB0(include_top=False)\n",
        "base_model.trainable = False\n",
        "# Create inputs\n",
        "inputs = tf.keras.layers.Input(shape=(224, 224, 3), name='input_layer')\n",
        "# Pass inputs to the base model\n",
        "x = base_model(inputs)\n",
        "# Create pooling layer\n",
        "x = tf.keras.layers.GlobalAveragePooling2D(name='pooling_layer')(x)\n",
        "# Create outputs\n",
        "outputs = tf.keras.layers.Dense(10, activation='softmax', name='output_layer')(x)\n",
        "# Create an instance of our model\n",
        "model_0 = tf.keras.Model(inputs, outputs)\n",
        "# Compile the model\n",
        "model_0.compile(loss=tf.keras.losses.CategoricalCrossentropy(),\n",
        "               optimizer=tf.keras.optimizers.Adam(),\n",
        "               metrics=['accuracy'])\n",
        "# Fit the model\n",
        "history_0 = model_0.fit(train_data,\n",
        "                       epochs=5,\n",
        "                       steps_per_epoch=len(train_data),\n",
        "                       validation_data=valid_data,\n",
        "                       validation_steps=len(valid_data))"
      ],
      "metadata": {
        "colab": {
          "base_uri": "https://localhost:8080/"
        },
        "id": "gNPLWoGy47OA",
        "outputId": "e5c6a5fc-db83-4d25-fae9-88f689c59e62"
      },
      "execution_count": null,
      "outputs": [
        {
          "output_type": "stream",
          "name": "stdout",
          "text": [
            "Downloading data from https://storage.googleapis.com/keras-applications/efficientnetb0_notop.h5\n",
            "16705208/16705208 [==============================] - 0s 0us/step\n",
            "Epoch 1/5\n",
            "74/74 [==============================] - 259s 3s/step - loss: 0.9656 - accuracy: 0.8119 - val_loss: 0.4039 - val_accuracy: 0.9400\n",
            "Epoch 2/5\n",
            "74/74 [==============================] - 7s 83ms/step - loss: 0.3270 - accuracy: 0.9444 - val_loss: 0.2455 - val_accuracy: 0.9000\n",
            "Epoch 3/5\n",
            "74/74 [==============================] - 6s 74ms/step - loss: 0.2238 - accuracy: 0.9590 - val_loss: 0.1864 - val_accuracy: 0.9400\n",
            "Epoch 4/5\n",
            "74/74 [==============================] - 6s 77ms/step - loss: 0.1829 - accuracy: 0.9619 - val_loss: 0.1623 - val_accuracy: 0.9400\n",
            "Epoch 5/5\n",
            "74/74 [==============================] - 6s 73ms/step - loss: 0.1592 - accuracy: 0.9675 - val_loss: 0.1339 - val_accuracy: 0.9600\n"
          ]
        }
      ]
    },
    {
      "cell_type": "code",
      "source": [
        "# Plot history_0\n",
        "pd.DataFrame(history_0.history).plot()"
      ],
      "metadata": {
        "colab": {
          "base_uri": "https://localhost:8080/",
          "height": 449
        },
        "id": "5pGCKZRe_FBI",
        "outputId": "49adf257-ec08-49cc-da27-d3dd0710edbe"
      },
      "execution_count": null,
      "outputs": [
        {
          "output_type": "execute_result",
          "data": {
            "text/plain": [
              "<Axes: >"
            ]
          },
          "metadata": {},
          "execution_count": 13
        },
        {
          "output_type": "display_data",
          "data": {
            "text/plain": [
              "<Figure size 640x480 with 1 Axes>"
            ],
            "image/png": "[encoded data removed]"
          },
          "metadata": {}
        }
      ]
    },
    {
      "cell_type": "code",
      "source": [
        "# Plot loss and accuracy separately\n",
        "plot_loss_curve(history_0)"
      ],
      "metadata": {
        "colab": {
          "base_uri": "https://localhost:8080/",
          "height": 927
        },
        "id": "YXSmpvEY_oh1",
        "outputId": "7a226d26-aed2-47ec-ac15-e5a9742dcd55"
      },
      "execution_count": null,
      "outputs": [
        {
          "output_type": "display_data",
          "data": {
            "text/plain": [
              "<Figure size 640x480 with 1 Axes>"
            ],
            "image/png": "[encoded data removed]"
          },
          "metadata": {}
        },
        {
          "output_type": "display_data",
          "data": {
            "text/plain": [
              "<Figure size 640x480 with 1 Axes>"
            ],
            "image/png": "[encoded data removed]"
          },
          "metadata": {}
        }
      ]
    },
    {
      "cell_type": "code",
      "source": [
        "# Evaluate on test data\n",
        "model_0.evaluate(test_data)"
      ],
      "metadata": {
        "colab": {
          "base_uri": "https://localhost:8080/"
        },
        "id": "bw2CCOa2AmRf",
        "outputId": "a218e4c4-af9e-4254-ebfa-21dc0eb239f0"
      },
      "execution_count": null,
      "outputs": [
        {
          "output_type": "stream",
          "name": "stdout",
          "text": [
            "2/2 [==============================] - 5s 58ms/step - loss: 0.0815 - accuracy: 1.0000\n"
          ]
        },
        {
          "output_type": "execute_result",
          "data": {
            "text/plain": [
              "[0.08149375766515732, 1.0]"
            ]
          },
          "metadata": {},
          "execution_count": 15
        }
      ]
    },
    {
      "cell_type": "code",
      "source": [
        "# Best Model export for deployment\n",
        "import pickle\n",
        "# save the model to disk\n",
        "model_filename = 'best_image_model.h5'\n",
        "pickle.dump(model_0, open(model_filename, 'wb'))"
      ],
      "metadata": {
        "id": "aoQ9NnRf3JSb"
      },
      "execution_count": null,
      "outputs": []
    },
    {
      "cell_type": "code",
      "source": [
        "# check by Reloading saved model from disk using load function of pickle\n",
        "with open('/content/best_image_model.h5','rb') as file:\n",
        "    loaded_model = pickle.load(file)\n",
        "# Validate the accuracy of the loaded model on the test data\n",
        "loss, accuracy = loaded_model.evaluate(test_data)\n",
        "print(str(model_0.evaluate(test_data)))\n"
      ],
      "metadata": {
        "colab": {
          "base_uri": "https://localhost:8080/",
          "height": 485
        },
        "id": "3OCuyDx8BWfy",
        "outputId": "db8e896b-9e12-4675-d10f-509894959b0b"
      },
      "execution_count": null,
      "outputs": [
        {
          "output_type": "error",
          "ename": "TypeError",
          "evalue": "ignored",
          "traceback": [
            "\u001b[0;31m---------------------------------------------------------------------------\u001b[0m",
            "\u001b[0;31mTypeError\u001b[0m                                 Traceback (most recent call last)",
            "\u001b[0;32m<ipython-input-17-c11ec85c9dd1>\u001b[0m in \u001b[0;36m<cell line: 2>\u001b[0;34m()\u001b[0m\n\u001b[1;32m      1\u001b[0m \u001b[0;31m# check by Reloading saved model from disk using load function of pickle\u001b[0m\u001b[0;34m\u001b[0m\u001b[0;34m\u001b[0m\u001b[0m\n\u001b[1;32m      2\u001b[0m \u001b[0;32mwith\u001b[0m \u001b[0mopen\u001b[0m\u001b[0;34m(\u001b[0m\u001b[0;34m'/content/best_image_model.h5'\u001b[0m\u001b[0;34m,\u001b[0m\u001b[0;34m'rb'\u001b[0m\u001b[0;34m)\u001b[0m \u001b[0;32mas\u001b[0m \u001b[0mfile\u001b[0m\u001b[0;34m:\u001b[0m\u001b[0;34m\u001b[0m\u001b[0;34m\u001b[0m\u001b[0m\n\u001b[0;32m----> 3\u001b[0;31m     \u001b[0mloaded_model\u001b[0m \u001b[0;34m=\u001b[0m \u001b[0mpickle\u001b[0m\u001b[0;34m.\u001b[0m\u001b[0mload\u001b[0m\u001b[0;34m(\u001b[0m\u001b[0mfile\u001b[0m\u001b[0;34m)\u001b[0m\u001b[0;34m\u001b[0m\u001b[0;34m\u001b[0m\u001b[0m\n\u001b[0m\u001b[1;32m      4\u001b[0m \u001b[0;31m# Validate the accuracy of the loaded model on the test data\u001b[0m\u001b[0;34m\u001b[0m\u001b[0;34m\u001b[0m\u001b[0m\n\u001b[1;32m      5\u001b[0m \u001b[0mloss\u001b[0m\u001b[0;34m,\u001b[0m \u001b[0maccuracy\u001b[0m \u001b[0;34m=\u001b[0m \u001b[0mloaded_model\u001b[0m\u001b[0;34m.\u001b[0m\u001b[0mevaluate\u001b[0m\u001b[0;34m(\u001b[0m\u001b[0mtest_data\u001b[0m\u001b[0;34m)\u001b[0m\u001b[0;34m\u001b[0m\u001b[0;34m\u001b[0m\u001b[0m\n",
            "\u001b[0;32m/usr/local/lib/python3.10/dist-packages/keras/saving/pickle_utils.py\u001b[0m in \u001b[0;36mdeserialize_model_from_bytecode\u001b[0;34m(serialized_model)\u001b[0m\n\u001b[1;32m     46\u001b[0m         \u001b[0mmodel\u001b[0m \u001b[0;34m=\u001b[0m \u001b[0msaving_lib\u001b[0m\u001b[0;34m.\u001b[0m\u001b[0mload_model\u001b[0m\u001b[0;34m(\u001b[0m\u001b[0mfilepath\u001b[0m\u001b[0;34m,\u001b[0m \u001b[0msafe_mode\u001b[0m\u001b[0;34m=\u001b[0m\u001b[0;32mFalse\u001b[0m\u001b[0;34m)\u001b[0m\u001b[0;34m\u001b[0m\u001b[0;34m\u001b[0m\u001b[0m\n\u001b[1;32m     47\u001b[0m     \u001b[0;32mexcept\u001b[0m \u001b[0mException\u001b[0m \u001b[0;32mas\u001b[0m \u001b[0me\u001b[0m\u001b[0;34m:\u001b[0m\u001b[0;34m\u001b[0m\u001b[0;34m\u001b[0m\u001b[0m\n\u001b[0;32m---> 48\u001b[0;31m         \u001b[0;32mraise\u001b[0m \u001b[0me\u001b[0m\u001b[0;34m\u001b[0m\u001b[0;34m\u001b[0m\u001b[0m\n\u001b[0m\u001b[1;32m     49\u001b[0m     \u001b[0;32melse\u001b[0m\u001b[0;34m:\u001b[0m\u001b[0;34m\u001b[0m\u001b[0;34m\u001b[0m\u001b[0m\n\u001b[1;32m     50\u001b[0m         \u001b[0;32mreturn\u001b[0m \u001b[0mmodel\u001b[0m\u001b[0;34m\u001b[0m\u001b[0;34m\u001b[0m\u001b[0m\n",
            "\u001b[0;32m/usr/local/lib/python3.10/dist-packages/keras/saving/pickle_utils.py\u001b[0m in \u001b[0;36mdeserialize_model_from_bytecode\u001b[0;34m(serialized_model)\u001b[0m\n\u001b[1;32m     44\u001b[0m         \u001b[0;31m# serialized as a string by Dense.get_config()) will require\u001b[0m\u001b[0;34m\u001b[0m\u001b[0;34m\u001b[0m\u001b[0m\n\u001b[1;32m     45\u001b[0m         \u001b[0;31m# a custom_object_scope.\u001b[0m\u001b[0;34m\u001b[0m\u001b[0;34m\u001b[0m\u001b[0m\n\u001b[0;32m---> 46\u001b[0;31m         \u001b[0mmodel\u001b[0m \u001b[0;34m=\u001b[0m \u001b[0msaving_lib\u001b[0m\u001b[0;34m.\u001b[0m\u001b[0mload_model\u001b[0m\u001b[0;34m(\u001b[0m\u001b[0mfilepath\u001b[0m\u001b[0;34m,\u001b[0m \u001b[0msafe_mode\u001b[0m\u001b[0;34m=\u001b[0m\u001b[0;32mFalse\u001b[0m\u001b[0;34m)\u001b[0m\u001b[0;34m\u001b[0m\u001b[0;34m\u001b[0m\u001b[0m\n\u001b[0m\u001b[1;32m     47\u001b[0m     \u001b[0;32mexcept\u001b[0m \u001b[0mException\u001b[0m \u001b[0;32mas\u001b[0m \u001b[0me\u001b[0m\u001b[0;34m:\u001b[0m\u001b[0;34m\u001b[0m\u001b[0;34m\u001b[0m\u001b[0m\n\u001b[1;32m     48\u001b[0m         \u001b[0;32mraise\u001b[0m \u001b[0me\u001b[0m\u001b[0;34m\u001b[0m\u001b[0;34m\u001b[0m\u001b[0m\n",
            "\u001b[0;32m/usr/local/lib/python3.10/dist-packages/keras/saving/saving_lib.py\u001b[0m in \u001b[0;36mload_model\u001b[0;34m(filepath, custom_objects, compile, safe_mode)\u001b[0m\n\u001b[1;32m    275\u001b[0m \u001b[0;34m\u001b[0m\u001b[0m\n\u001b[1;32m    276\u001b[0m     \u001b[0;32mexcept\u001b[0m \u001b[0mException\u001b[0m \u001b[0;32mas\u001b[0m \u001b[0me\u001b[0m\u001b[0;34m:\u001b[0m\u001b[0;34m\u001b[0m\u001b[0;34m\u001b[0m\u001b[0m\n\u001b[0;32m--> 277\u001b[0;31m         \u001b[0;32mraise\u001b[0m \u001b[0me\u001b[0m\u001b[0;34m\u001b[0m\u001b[0;34m\u001b[0m\u001b[0m\n\u001b[0m\u001b[1;32m    278\u001b[0m     \u001b[0;32melse\u001b[0m\u001b[0;34m:\u001b[0m\u001b[0;34m\u001b[0m\u001b[0;34m\u001b[0m\u001b[0m\n\u001b[1;32m    279\u001b[0m         \u001b[0;32mreturn\u001b[0m \u001b[0mmodel\u001b[0m\u001b[0;34m\u001b[0m\u001b[0;34m\u001b[0m\u001b[0m\n",
            "\u001b[0;32m/usr/local/lib/python3.10/dist-packages/keras/saving/saving_lib.py\u001b[0m in \u001b[0;36mload_model\u001b[0;34m(filepath, custom_objects, compile, safe_mode)\u001b[0m\n\u001b[1;32m    240\u001b[0m             \u001b[0;31m# Construct the model from the configuration file in the archive.\u001b[0m\u001b[0;34m\u001b[0m\u001b[0;34m\u001b[0m\u001b[0m\n\u001b[1;32m    241\u001b[0m             \u001b[0;32mwith\u001b[0m \u001b[0mObjectSharingScope\u001b[0m\u001b[0;34m(\u001b[0m\u001b[0;34m)\u001b[0m\u001b[0;34m:\u001b[0m\u001b[0;34m\u001b[0m\u001b[0;34m\u001b[0m\u001b[0m\n\u001b[0;32m--> 242\u001b[0;31m                 model = deserialize_keras_object(\n\u001b[0m\u001b[1;32m    243\u001b[0m                     \u001b[0mconfig_dict\u001b[0m\u001b[0;34m,\u001b[0m \u001b[0mcustom_objects\u001b[0m\u001b[0;34m,\u001b[0m \u001b[0msafe_mode\u001b[0m\u001b[0;34m=\u001b[0m\u001b[0msafe_mode\u001b[0m\u001b[0;34m\u001b[0m\u001b[0;34m\u001b[0m\u001b[0m\n\u001b[1;32m    244\u001b[0m                 )\n",
            "\u001b[0;32m/usr/local/lib/python3.10/dist-packages/keras/saving/serialization_lib.py\u001b[0m in \u001b[0;36mdeserialize_keras_object\u001b[0;34m(config, custom_objects, safe_mode, **kwargs)\u001b[0m\n\u001b[1;32m    500\u001b[0m     \u001b[0msafe_mode_scope\u001b[0m \u001b[0;34m=\u001b[0m \u001b[0mSafeModeScope\u001b[0m\u001b[0;34m(\u001b[0m\u001b[0msafe_mode\u001b[0m\u001b[0;34m)\u001b[0m\u001b[0;34m\u001b[0m\u001b[0;34m\u001b[0m\u001b[0m\n\u001b[1;32m    501\u001b[0m     \u001b[0;32mwith\u001b[0m \u001b[0mcustom_obj_scope\u001b[0m\u001b[0;34m,\u001b[0m \u001b[0msafe_mode_scope\u001b[0m\u001b[0;34m:\u001b[0m\u001b[0;34m\u001b[0m\u001b[0;34m\u001b[0m\u001b[0m\n\u001b[0;32m--> 502\u001b[0;31m         \u001b[0minstance\u001b[0m \u001b[0;34m=\u001b[0m \u001b[0mcls\u001b[0m\u001b[0;34m.\u001b[0m\u001b[0mfrom_config\u001b[0m\u001b[0;34m(\u001b[0m\u001b[0minner_config\u001b[0m\u001b[0;34m)\u001b[0m\u001b[0;34m\u001b[0m\u001b[0;34m\u001b[0m\u001b[0m\n\u001b[0m\u001b[1;32m    503\u001b[0m         \u001b[0mbuild_config\u001b[0m \u001b[0;34m=\u001b[0m \u001b[0mconfig\u001b[0m\u001b[0;34m.\u001b[0m\u001b[0mget\u001b[0m\u001b[0;34m(\u001b[0m\u001b[0;34m\"build_config\"\u001b[0m\u001b[0;34m,\u001b[0m \u001b[0;32mNone\u001b[0m\u001b[0;34m)\u001b[0m\u001b[0;34m\u001b[0m\u001b[0;34m\u001b[0m\u001b[0m\n\u001b[1;32m    504\u001b[0m         \u001b[0;32mif\u001b[0m \u001b[0mbuild_config\u001b[0m\u001b[0;34m:\u001b[0m\u001b[0;34m\u001b[0m\u001b[0;34m\u001b[0m\u001b[0m\n",
            "\u001b[0;32m/usr/local/lib/python3.10/dist-packages/keras/engine/training.py\u001b[0m in \u001b[0;36mfrom_config\u001b[0;34m(cls, config, custom_objects)\u001b[0m\n\u001b[1;32m   3051\u001b[0m                 \u001b[0;31m# Revive Functional model\u001b[0m\u001b[0;34m\u001b[0m\u001b[0;34m\u001b[0m\u001b[0m\n\u001b[1;32m   3052\u001b[0m                 \u001b[0;31m# (but not Functional subclasses with a custom __init__)\u001b[0m\u001b[0;34m\u001b[0m\u001b[0;34m\u001b[0m\u001b[0m\n\u001b[0;32m-> 3053\u001b[0;31m                 inputs, outputs, layers = functional.reconstruct_from_config(\n\u001b[0m\u001b[1;32m   3054\u001b[0m                     \u001b[0mconfig\u001b[0m\u001b[0;34m,\u001b[0m \u001b[0mcustom_objects\u001b[0m\u001b[0;34m\u001b[0m\u001b[0;34m\u001b[0m\u001b[0m\n\u001b[1;32m   3055\u001b[0m                 )\n",
            "\u001b[0;32m/usr/local/lib/python3.10/dist-packages/keras/engine/functional.py\u001b[0m in \u001b[0;36mreconstruct_from_config\u001b[0;34m(config, custom_objects, created_layers)\u001b[0m\n\u001b[1;32m   1481\u001b[0m     \u001b[0;31m# First, we create all layers and enqueue nodes to be processed\u001b[0m\u001b[0;34m\u001b[0m\u001b[0;34m\u001b[0m\u001b[0m\n\u001b[1;32m   1482\u001b[0m     \u001b[0;32mfor\u001b[0m \u001b[0mlayer_data\u001b[0m \u001b[0;32min\u001b[0m \u001b[0mconfig\u001b[0m\u001b[0;34m[\u001b[0m\u001b[0;34m\"layers\"\u001b[0m\u001b[0;34m]\u001b[0m\u001b[0;34m:\u001b[0m\u001b[0;34m\u001b[0m\u001b[0;34m\u001b[0m\u001b[0m\n\u001b[0;32m-> 1483\u001b[0;31m         \u001b[0mprocess_layer\u001b[0m\u001b[0;34m(\u001b[0m\u001b[0mlayer_data\u001b[0m\u001b[0;34m)\u001b[0m\u001b[0;34m\u001b[0m\u001b[0;34m\u001b[0m\u001b[0m\n\u001b[0m\u001b[1;32m   1484\u001b[0m     \u001b[0;31m# Then we process nodes in order of layer depth.\u001b[0m\u001b[0;34m\u001b[0m\u001b[0;34m\u001b[0m\u001b[0m\n\u001b[1;32m   1485\u001b[0m     \u001b[0;31m# Nodes that cannot yet be processed (if the inbound node\u001b[0m\u001b[0;34m\u001b[0m\u001b[0;34m\u001b[0m\u001b[0m\n",
            "\u001b[0;32m/usr/local/lib/python3.10/dist-packages/keras/engine/functional.py\u001b[0m in \u001b[0;36mprocess_layer\u001b[0;34m(layer_data)\u001b[0m\n\u001b[1;32m   1462\u001b[0m             \u001b[0;32mfrom\u001b[0m \u001b[0mkeras\u001b[0m\u001b[0;34m.\u001b[0m\u001b[0mlayers\u001b[0m \u001b[0;32mimport\u001b[0m \u001b[0mdeserialize\u001b[0m \u001b[0;32mas\u001b[0m \u001b[0mdeserialize_layer\u001b[0m\u001b[0;34m\u001b[0m\u001b[0;34m\u001b[0m\u001b[0m\n\u001b[1;32m   1463\u001b[0m \u001b[0;34m\u001b[0m\u001b[0m\n\u001b[0;32m-> 1464\u001b[0;31m             \u001b[0mlayer\u001b[0m \u001b[0;34m=\u001b[0m \u001b[0mdeserialize_layer\u001b[0m\u001b[0;34m(\u001b[0m\u001b[0mlayer_data\u001b[0m\u001b[0;34m,\u001b[0m \u001b[0mcustom_objects\u001b[0m\u001b[0;34m=\u001b[0m\u001b[0mcustom_objects\u001b[0m\u001b[0;34m)\u001b[0m\u001b[0;34m\u001b[0m\u001b[0;34m\u001b[0m\u001b[0m\n\u001b[0m\u001b[1;32m   1465\u001b[0m             \u001b[0mcreated_layers\u001b[0m\u001b[0;34m[\u001b[0m\u001b[0mlayer_name\u001b[0m\u001b[0;34m]\u001b[0m \u001b[0;34m=\u001b[0m \u001b[0mlayer\u001b[0m\u001b[0;34m\u001b[0m\u001b[0;34m\u001b[0m\u001b[0m\n\u001b[1;32m   1466\u001b[0m \u001b[0;34m\u001b[0m\u001b[0m\n",
            "\u001b[0;32m/usr/local/lib/python3.10/dist-packages/keras/layers/serialization.py\u001b[0m in \u001b[0;36mdeserialize\u001b[0;34m(config, custom_objects, use_legacy_format)\u001b[0m\n\u001b[1;32m    263\u001b[0m \u001b[0;34m\u001b[0m\u001b[0m\n\u001b[1;32m    264\u001b[0m     \u001b[0;31m# To be replaced by new serialization_lib\u001b[0m\u001b[0;34m\u001b[0m\u001b[0;34m\u001b[0m\u001b[0m\n\u001b[0;32m--> 265\u001b[0;31m     return legacy_serialization.deserialize_keras_object(\n\u001b[0m\u001b[1;32m    266\u001b[0m         \u001b[0mconfig\u001b[0m\u001b[0;34m,\u001b[0m\u001b[0;34m\u001b[0m\u001b[0;34m\u001b[0m\u001b[0m\n\u001b[1;32m    267\u001b[0m         \u001b[0mmodule_objects\u001b[0m\u001b[0;34m=\u001b[0m\u001b[0mLOCAL\u001b[0m\u001b[0;34m.\u001b[0m\u001b[0mALL_OBJECTS\u001b[0m\u001b[0;34m,\u001b[0m\u001b[0;34m\u001b[0m\u001b[0;34m\u001b[0m\u001b[0m\n",
            "\u001b[0;32m/usr/local/lib/python3.10/dist-packages/keras/saving/legacy/serialization.py\u001b[0m in \u001b[0;36mdeserialize_keras_object\u001b[0;34m(identifier, module_objects, custom_objects, printable_module_name)\u001b[0m\n\u001b[1;32m    501\u001b[0m             \u001b[0;32mif\u001b[0m \u001b[0;34m\"custom_objects\"\u001b[0m \u001b[0;32min\u001b[0m \u001b[0marg_spec\u001b[0m\u001b[0;34m.\u001b[0m\u001b[0margs\u001b[0m\u001b[0;34m:\u001b[0m\u001b[0;34m\u001b[0m\u001b[0;34m\u001b[0m\u001b[0m\n\u001b[1;32m    502\u001b[0m                 \u001b[0mtlco\u001b[0m \u001b[0;34m=\u001b[0m \u001b[0mobject_registration\u001b[0m\u001b[0;34m.\u001b[0m\u001b[0m_THREAD_LOCAL_CUSTOM_OBJECTS\u001b[0m\u001b[0;34m.\u001b[0m\u001b[0m__dict__\u001b[0m\u001b[0;34m\u001b[0m\u001b[0;34m\u001b[0m\u001b[0m\n\u001b[0;32m--> 503\u001b[0;31m                 deserialized_obj = cls.from_config(\n\u001b[0m\u001b[1;32m    504\u001b[0m                     \u001b[0mcls_config\u001b[0m\u001b[0;34m,\u001b[0m\u001b[0;34m\u001b[0m\u001b[0;34m\u001b[0m\u001b[0m\n\u001b[1;32m    505\u001b[0m                     custom_objects={\n",
            "\u001b[0;32m/usr/local/lib/python3.10/dist-packages/keras/engine/training.py\u001b[0m in \u001b[0;36mfrom_config\u001b[0;34m(cls, config, custom_objects)\u001b[0m\n\u001b[1;32m   3051\u001b[0m                 \u001b[0;31m# Revive Functional model\u001b[0m\u001b[0;34m\u001b[0m\u001b[0;34m\u001b[0m\u001b[0m\n\u001b[1;32m   3052\u001b[0m                 \u001b[0;31m# (but not Functional subclasses with a custom __init__)\u001b[0m\u001b[0;34m\u001b[0m\u001b[0;34m\u001b[0m\u001b[0m\n\u001b[0;32m-> 3053\u001b[0;31m                 inputs, outputs, layers = functional.reconstruct_from_config(\n\u001b[0m\u001b[1;32m   3054\u001b[0m                     \u001b[0mconfig\u001b[0m\u001b[0;34m,\u001b[0m \u001b[0mcustom_objects\u001b[0m\u001b[0;34m\u001b[0m\u001b[0;34m\u001b[0m\u001b[0m\n\u001b[1;32m   3055\u001b[0m                 )\n",
            "\u001b[0;32m/usr/local/lib/python3.10/dist-packages/keras/engine/functional.py\u001b[0m in \u001b[0;36mreconstruct_from_config\u001b[0;34m(config, custom_objects, created_layers)\u001b[0m\n\u001b[1;32m   1493\u001b[0m                 \u001b[0;32mwhile\u001b[0m \u001b[0mlayer_nodes\u001b[0m\u001b[0;34m:\u001b[0m\u001b[0;34m\u001b[0m\u001b[0;34m\u001b[0m\u001b[0m\n\u001b[1;32m   1494\u001b[0m                     \u001b[0mnode_data\u001b[0m \u001b[0;34m=\u001b[0m \u001b[0mlayer_nodes\u001b[0m\u001b[0;34m[\u001b[0m\u001b[0;36m0\u001b[0m\u001b[0;34m]\u001b[0m\u001b[0;34m\u001b[0m\u001b[0;34m\u001b[0m\u001b[0m\n\u001b[0;32m-> 1495\u001b[0;31m                     \u001b[0;32mif\u001b[0m \u001b[0mprocess_node\u001b[0m\u001b[0;34m(\u001b[0m\u001b[0mlayer\u001b[0m\u001b[0;34m,\u001b[0m \u001b[0mnode_data\u001b[0m\u001b[0;34m)\u001b[0m\u001b[0;34m:\u001b[0m\u001b[0;34m\u001b[0m\u001b[0;34m\u001b[0m\u001b[0m\n\u001b[0m\u001b[1;32m   1496\u001b[0m                         \u001b[0mlayer_nodes\u001b[0m\u001b[0;34m.\u001b[0m\u001b[0mpop\u001b[0m\u001b[0;34m(\u001b[0m\u001b[0;36m0\u001b[0m\u001b[0;34m)\u001b[0m\u001b[0;34m\u001b[0m\u001b[0;34m\u001b[0m\u001b[0m\n\u001b[1;32m   1497\u001b[0m                     \u001b[0;32melse\u001b[0m\u001b[0;34m:\u001b[0m\u001b[0;34m\u001b[0m\u001b[0;34m\u001b[0m\u001b[0m\n",
            "\u001b[0;32m/usr/local/lib/python3.10/dist-packages/keras/engine/functional.py\u001b[0m in \u001b[0;36mprocess_node\u001b[0;34m(layer, node_data)\u001b[0m\n\u001b[1;32m   1433\u001b[0m                     \u001b[0minput_tensors\u001b[0m\u001b[0;34m\u001b[0m\u001b[0;34m\u001b[0m\u001b[0m\n\u001b[1;32m   1434\u001b[0m                 )\n\u001b[0;32m-> 1435\u001b[0;31m             \u001b[0moutput_tensors\u001b[0m \u001b[0;34m=\u001b[0m \u001b[0mlayer\u001b[0m\u001b[0;34m(\u001b[0m\u001b[0minput_tensors\u001b[0m\u001b[0;34m,\u001b[0m \u001b[0;34m**\u001b[0m\u001b[0mkwargs\u001b[0m\u001b[0;34m)\u001b[0m\u001b[0;34m\u001b[0m\u001b[0;34m\u001b[0m\u001b[0m\n\u001b[0m\u001b[1;32m   1436\u001b[0m \u001b[0;34m\u001b[0m\u001b[0m\n\u001b[1;32m   1437\u001b[0m             \u001b[0;31m# Update node index map.\u001b[0m\u001b[0;34m\u001b[0m\u001b[0;34m\u001b[0m\u001b[0m\n",
            "\u001b[0;32m/usr/local/lib/python3.10/dist-packages/keras/utils/traceback_utils.py\u001b[0m in \u001b[0;36merror_handler\u001b[0;34m(*args, **kwargs)\u001b[0m\n\u001b[1;32m     68\u001b[0m             \u001b[0;31m# To get the full stack trace, call:\u001b[0m\u001b[0;34m\u001b[0m\u001b[0;34m\u001b[0m\u001b[0m\n\u001b[1;32m     69\u001b[0m             \u001b[0;31m# `tf.debugging.disable_traceback_filtering()`\u001b[0m\u001b[0;34m\u001b[0m\u001b[0;34m\u001b[0m\u001b[0m\n\u001b[0;32m---> 70\u001b[0;31m             \u001b[0;32mraise\u001b[0m \u001b[0me\u001b[0m\u001b[0;34m.\u001b[0m\u001b[0mwith_traceback\u001b[0m\u001b[0;34m(\u001b[0m\u001b[0mfiltered_tb\u001b[0m\u001b[0;34m)\u001b[0m \u001b[0;32mfrom\u001b[0m \u001b[0;32mNone\u001b[0m\u001b[0;34m\u001b[0m\u001b[0;34m\u001b[0m\u001b[0m\n\u001b[0m\u001b[1;32m     71\u001b[0m         \u001b[0;32mfinally\u001b[0m\u001b[0;34m:\u001b[0m\u001b[0;34m\u001b[0m\u001b[0;34m\u001b[0m\u001b[0m\n\u001b[1;32m     72\u001b[0m             \u001b[0;32mdel\u001b[0m \u001b[0mfiltered_tb\u001b[0m\u001b[0;34m\u001b[0m\u001b[0;34m\u001b[0m\u001b[0m\n",
            "\u001b[0;32m/usr/local/lib/python3.10/dist-packages/tensorflow/python/framework/tensor_util.py\u001b[0m in \u001b[0;36mmake_tensor_proto\u001b[0;34m(values, dtype, shape, verify_shape, allow_broadcast)\u001b[0m\n\u001b[1;32m    607\u001b[0m       \u001b[0mstr_values\u001b[0m \u001b[0;34m=\u001b[0m \u001b[0;34m[\u001b[0m\u001b[0mcompat\u001b[0m\u001b[0;34m.\u001b[0m\u001b[0mas_bytes\u001b[0m\u001b[0;34m(\u001b[0m\u001b[0mx\u001b[0m\u001b[0;34m)\u001b[0m \u001b[0;32mfor\u001b[0m \u001b[0mx\u001b[0m \u001b[0;32min\u001b[0m \u001b[0mproto_values\u001b[0m\u001b[0;34m]\u001b[0m\u001b[0;34m\u001b[0m\u001b[0;34m\u001b[0m\u001b[0m\n\u001b[1;32m    608\u001b[0m     \u001b[0;32mexcept\u001b[0m \u001b[0mTypeError\u001b[0m\u001b[0;34m:\u001b[0m\u001b[0;34m\u001b[0m\u001b[0;34m\u001b[0m\u001b[0m\n\u001b[0;32m--> 609\u001b[0;31m       raise TypeError(f\"Failed to convert elements of {values} to Tensor. \"\n\u001b[0m\u001b[1;32m    610\u001b[0m                       \u001b[0;34m\"Consider casting elements to a supported type. See \"\u001b[0m\u001b[0;34m\u001b[0m\u001b[0;34m\u001b[0m\u001b[0m\n\u001b[1;32m    611\u001b[0m                       \u001b[0;34m\"https://www.tensorflow.org/api_docs/python/tf/dtypes \"\u001b[0m\u001b[0;34m\u001b[0m\u001b[0;34m\u001b[0m\u001b[0m\n",
            "\u001b[0;31mTypeError\u001b[0m: Exception encountered when calling layer \"rescaling_1\" (type Rescaling).\n\nFailed to convert elements of {'class_name': '__tensor__', 'config': DictWrapper({'value': ListWrapper([2.0896918773651123, 2.1128857135772705, 2.108185291290283]), 'dtype': 'float32'})} to Tensor. Consider casting elements to a supported type. See https://www.tensorflow.org/api_docs/python/tf/dtypes for supported TF dtypes.\n\nCall arguments received by layer \"rescaling_1\" (type Rescaling):\n  • inputs=tf.Tensor(shape=(None, None, None, 3), dtype=float32)"
          ]
        }
      ]
    }
  ]
}